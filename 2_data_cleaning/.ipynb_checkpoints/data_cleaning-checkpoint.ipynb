{
 "cells": [
  {
   "cell_type": "markdown",
   "id": "78b93e43",
   "metadata": {},
   "source": [
    "# Data Cleaning\n",
    "\n",
    "The collected data must be cleaned so that it can become usable by machine learning models. In this sense, below I will be cleaning and converting the columns to the appropriate dtypes.\n",
    "\n",
    "### Table of Contents\n",
    "\n",
    "1. [🧼 Loading data and taking the first look](#1---🧼-Loading-data-and-taking-the-first-look)\n",
    "2. [🖥️ Converting characteristic columns to binary type](#2---🖥️-Converting-characteristic-columns-to-binary-type)\n",
    "3. [🔢 Cleaning the numeric columns](#3---🔢-Cleaning-the-numeric-columns)\n",
    "4. [🗑️ Deleting irrelevant columns for prediction](#4---🗑️-Deleting-irrelevant-columns-for-prediction)\n",
    "5. [🌐 Obtaining the latitude and longitude of the apartments from the address](#5---🌐-Obtaining-the-latitude-and-longitude-of-the-apartments-from-the-address)\n",
    "6. [💾 Taking a final look at the data and saving it](#6---💾-Taking-a-final-look-at-the-data-and-saving-it)"
   ]
  },
  {
   "cell_type": "markdown",
   "id": "f8a1da22",
   "metadata": {},
   "source": [
    "---"
   ]
  },
  {
   "cell_type": "markdown",
   "id": "aa8f32bf",
   "metadata": {},
   "source": [
    "## 1 - 🧼 Loading data and taking the first look"
   ]
  },
  {
   "cell_type": "code",
   "execution_count": 1,
   "id": "acbc644e",
   "metadata": {},
   "outputs": [
    {
     "name": "stdout",
     "output_type": "stream",
     "text": [
      "Total rows: 9839\n"
     ]
    },
    {
     "name": "stderr",
     "output_type": "stream",
     "text": [
      "C:\\Users\\cego\\AppData\\Local\\Temp\\ipykernel_21568\\3702992975.py:7: DtypeWarning: Columns (78) have mixed types. Specify dtype option on import or set low_memory=False.\n",
      "  data = pd.read_csv(path_to_data_csv, sep=\"|\")\n"
     ]
    },
    {
     "data": {
      "text/html": [
       "<div>\n",
       "<style scoped>\n",
       "    .dataframe tbody tr th:only-of-type {\n",
       "        vertical-align: middle;\n",
       "    }\n",
       "\n",
       "    .dataframe tbody tr th {\n",
       "        vertical-align: top;\n",
       "    }\n",
       "\n",
       "    .dataframe thead th {\n",
       "        text-align: right;\n",
       "    }\n",
       "</style>\n",
       "<table border=\"1\" class=\"dataframe\">\n",
       "  <thead>\n",
       "    <tr style=\"text-align: right;\">\n",
       "      <th></th>\n",
       "      <th>id</th>\n",
       "      <th>tag_card</th>\n",
       "      <th>business_type</th>\n",
       "      <th>price</th>\n",
       "      <th>condo_fee</th>\n",
       "      <th>iptu</th>\n",
       "      <th>address</th>\n",
       "      <th>floorSize</th>\n",
       "      <th>numberOfRooms</th>\n",
       "      <th>numberOfBathroomsTotal</th>\n",
       "      <th>...</th>\n",
       "      <th>privatePool</th>\n",
       "      <th>backyard</th>\n",
       "      <th>grass</th>\n",
       "      <th>largeWindow</th>\n",
       "      <th>naturalVentilation</th>\n",
       "      <th>cooker</th>\n",
       "      <th>hikingTrail</th>\n",
       "      <th>panoramicView</th>\n",
       "      <th>massage</th>\n",
       "      <th>freezer</th>\n",
       "    </tr>\n",
       "  </thead>\n",
       "  <tbody>\n",
       "    <tr>\n",
       "      <th>0</th>\n",
       "      <td>62750619205425081544300816117885861273</td>\n",
       "      <td>Destaque</td>\n",
       "      <td>Venda</td>\n",
       "      <td>R$ 949.900</td>\n",
       "      <td>R$ 790</td>\n",
       "      <td>R$ 1.900/ano</td>\n",
       "      <td>Rua C238, 100 - Jardim América, Goiânia - GO</td>\n",
       "      <td>130 m²</td>\n",
       "      <td>3 quartos</td>\n",
       "      <td>4 banheiros</td>\n",
       "      <td>...</td>\n",
       "      <td>NaN</td>\n",
       "      <td>NaN</td>\n",
       "      <td>NaN</td>\n",
       "      <td>NaN</td>\n",
       "      <td>NaN</td>\n",
       "      <td>NaN</td>\n",
       "      <td>NaN</td>\n",
       "      <td>NaN</td>\n",
       "      <td>NaN</td>\n",
       "      <td>NaN</td>\n",
       "    </tr>\n",
       "    <tr>\n",
       "      <th>1</th>\n",
       "      <td>302678336848826931249389939487192177877</td>\n",
       "      <td>Em construção</td>\n",
       "      <td>A partir de</td>\n",
       "      <td>R$ 760.000</td>\n",
       "      <td>NaN</td>\n",
       "      <td>NaN</td>\n",
       "      <td>Rua T 30, S/N - Setor Bueno, Goiânia - GO</td>\n",
       "      <td>80 - 100 m²</td>\n",
       "      <td>2 - 3 quartos</td>\n",
       "      <td>2 - 3 banheiros</td>\n",
       "      <td>...</td>\n",
       "      <td>NaN</td>\n",
       "      <td>NaN</td>\n",
       "      <td>NaN</td>\n",
       "      <td>NaN</td>\n",
       "      <td>NaN</td>\n",
       "      <td>NaN</td>\n",
       "      <td>NaN</td>\n",
       "      <td>NaN</td>\n",
       "      <td>NaN</td>\n",
       "      <td>NaN</td>\n",
       "    </tr>\n",
       "    <tr>\n",
       "      <th>2</th>\n",
       "      <td>130359292211767838527233708900928593543</td>\n",
       "      <td>NaN</td>\n",
       "      <td>Venda</td>\n",
       "      <td>R$ 350.000</td>\n",
       "      <td>R$ 270</td>\n",
       "      <td>R$ 250/ano</td>\n",
       "      <td>Avenida Marialva, 435 - Vila Rosa, Goiânia - GO</td>\n",
       "      <td>57 m²</td>\n",
       "      <td>2 quartos</td>\n",
       "      <td>1 banheiro</td>\n",
       "      <td>...</td>\n",
       "      <td>NaN</td>\n",
       "      <td>NaN</td>\n",
       "      <td>NaN</td>\n",
       "      <td>NaN</td>\n",
       "      <td>NaN</td>\n",
       "      <td>NaN</td>\n",
       "      <td>NaN</td>\n",
       "      <td>NaN</td>\n",
       "      <td>NaN</td>\n",
       "      <td>NaN</td>\n",
       "    </tr>\n",
       "    <tr>\n",
       "      <th>3</th>\n",
       "      <td>191007733490619722070589252030900058169</td>\n",
       "      <td>Destaque</td>\n",
       "      <td>Venda</td>\n",
       "      <td>R$ 523.000</td>\n",
       "      <td>R$ 500</td>\n",
       "      <td>R$ 800/ano</td>\n",
       "      <td>Rua VV 5, 1 - Residencial Eldorado, Goiânia - GO</td>\n",
       "      <td>74 m²</td>\n",
       "      <td>3 quartos</td>\n",
       "      <td>3 banheiros</td>\n",
       "      <td>...</td>\n",
       "      <td>NaN</td>\n",
       "      <td>NaN</td>\n",
       "      <td>NaN</td>\n",
       "      <td>NaN</td>\n",
       "      <td>NaN</td>\n",
       "      <td>NaN</td>\n",
       "      <td>NaN</td>\n",
       "      <td>NaN</td>\n",
       "      <td>NaN</td>\n",
       "      <td>NaN</td>\n",
       "    </tr>\n",
       "    <tr>\n",
       "      <th>4</th>\n",
       "      <td>200978065182550317495009592604134775241</td>\n",
       "      <td>Destaque</td>\n",
       "      <td>Venda</td>\n",
       "      <td>R$ 624.700</td>\n",
       "      <td>R$ 500</td>\n",
       "      <td>R$ 900/ano</td>\n",
       "      <td>Avenida Dona Maria Cardoso, 735 - Parque Amazô...</td>\n",
       "      <td>72 m²</td>\n",
       "      <td>2 quartos</td>\n",
       "      <td>1 banheiro</td>\n",
       "      <td>...</td>\n",
       "      <td>NaN</td>\n",
       "      <td>NaN</td>\n",
       "      <td>NaN</td>\n",
       "      <td>NaN</td>\n",
       "      <td>NaN</td>\n",
       "      <td>NaN</td>\n",
       "      <td>NaN</td>\n",
       "      <td>NaN</td>\n",
       "      <td>NaN</td>\n",
       "      <td>NaN</td>\n",
       "    </tr>\n",
       "  </tbody>\n",
       "</table>\n",
       "<p>5 rows × 79 columns</p>\n",
       "</div>"
      ],
      "text/plain": [
       "                                        id       tag_card business_type  \\\n",
       "0   62750619205425081544300816117885861273       Destaque         Venda   \n",
       "1  302678336848826931249389939487192177877  Em construção   A partir de   \n",
       "2  130359292211767838527233708900928593543            NaN         Venda   \n",
       "3  191007733490619722070589252030900058169       Destaque         Venda   \n",
       "4  200978065182550317495009592604134775241       Destaque         Venda   \n",
       "\n",
       "        price condo_fee          iptu  \\\n",
       "0  R$ 949.900    R$ 790  R$ 1.900/ano   \n",
       "1  R$ 760.000       NaN           NaN   \n",
       "2  R$ 350.000    R$ 270    R$ 250/ano   \n",
       "3  R$ 523.000    R$ 500    R$ 800/ano   \n",
       "4  R$ 624.700    R$ 500    R$ 900/ano   \n",
       "\n",
       "                                             address    floorSize  \\\n",
       "0       Rua C238, 100 - Jardim América, Goiânia - GO       130 m²   \n",
       "1          Rua T 30, S/N - Setor Bueno, Goiânia - GO  80 - 100 m²   \n",
       "2    Avenida Marialva, 435 - Vila Rosa, Goiânia - GO        57 m²   \n",
       "3   Rua VV 5, 1 - Residencial Eldorado, Goiânia - GO        74 m²   \n",
       "4  Avenida Dona Maria Cardoso, 735 - Parque Amazô...        72 m²   \n",
       "\n",
       "   numberOfRooms numberOfBathroomsTotal  ... privatePool backyard grass  \\\n",
       "0      3 quartos            4 banheiros  ...         NaN      NaN   NaN   \n",
       "1  2 - 3 quartos        2 - 3 banheiros  ...         NaN      NaN   NaN   \n",
       "2      2 quartos             1 banheiro  ...         NaN      NaN   NaN   \n",
       "3      3 quartos            3 banheiros  ...         NaN      NaN   NaN   \n",
       "4      2 quartos             1 banheiro  ...         NaN      NaN   NaN   \n",
       "\n",
       "  largeWindow naturalVentilation cooker hikingTrail panoramicView massage  \\\n",
       "0         NaN                NaN    NaN         NaN           NaN     NaN   \n",
       "1         NaN                NaN    NaN         NaN           NaN     NaN   \n",
       "2         NaN                NaN    NaN         NaN           NaN     NaN   \n",
       "3         NaN                NaN    NaN         NaN           NaN     NaN   \n",
       "4         NaN                NaN    NaN         NaN           NaN     NaN   \n",
       "\n",
       "  freezer  \n",
       "0     NaN  \n",
       "1     NaN  \n",
       "2     NaN  \n",
       "3     NaN  \n",
       "4     NaN  \n",
       "\n",
       "[5 rows x 79 columns]"
      ]
     },
     "execution_count": 1,
     "metadata": {},
     "output_type": "execute_result"
    }
   ],
   "source": [
    "import pandas as pd\n",
    "import numpy as np\n",
    "\n",
    "# path to data csv\n",
    "path_to_data_csv = \"C:/Users/cego/OneDrive/Área de Trabalho/MESTRADO/Projeto, apartment prices v2/data/data.csv\"\n",
    "\n",
    "data = pd.read_csv(path_to_data_csv, sep=\"|\")\n",
    "print(f\"Total rows: {len(data)}\")\n",
    "data.head(5)"
   ]
  },
  {
   "cell_type": "markdown",
   "id": "0dd1ea6a",
   "metadata": {},
   "source": [
    "There are more than 9000 rows, and the columns that were supposed to have numeric values ​​are \"dirty\" with strings. We're going to have to clean all this up! Let's take a look at total columns too..."
   ]
  },
  {
   "cell_type": "code",
   "execution_count": 2,
   "id": "e70bb319",
   "metadata": {},
   "outputs": [
    {
     "data": {
      "text/plain": [
       "['id',\n",
       " 'tag_card',\n",
       " 'business_type',\n",
       " 'price',\n",
       " 'condo_fee',\n",
       " 'iptu',\n",
       " 'address',\n",
       " 'floorSize',\n",
       " 'numberOfRooms',\n",
       " 'numberOfBathroomsTotal',\n",
       " 'numberOfParkingSpaces',\n",
       " 'floorLevel',\n",
       " 'pool',\n",
       " 'elevator',\n",
       " 'barbecueGrill',\n",
       " 'gatedCommunity',\n",
       " 'gym',\n",
       " 'gourmetSpace',\n",
       " 'garden',\n",
       " 'playground',\n",
       " 'partyHall',\n",
       " 'laundry',\n",
       " 'disabledAccess',\n",
       " 'coworking',\n",
       " 'electronicGate',\n",
       " 'sauna',\n",
       " 'spa',\n",
       " 'complete_description',\n",
       " 'petsAllowed',\n",
       " 'airConditioning',\n",
       " 'gourmetBalcony',\n",
       " 'sportsCourt',\n",
       " 'bicyclesPlace',\n",
       " 'concierge24h',\n",
       " 'americanKitchen',\n",
       " 'balcony',\n",
       " 'intercom',\n",
       " 'serviceArea',\n",
       " 'largeKitchen',\n",
       " 'furnished',\n",
       " 'kitchen',\n",
       " 'adultGameRoom',\n",
       " 'deposit',\n",
       " 'watchman',\n",
       " 'security24Hours',\n",
       " 'bedroomWardrobe',\n",
       " 'internetAccess',\n",
       " 'closet',\n",
       " 'gourmetKitchen',\n",
       " 'electricGenerator',\n",
       " 'alarmSystem',\n",
       " 'toysPlace',\n",
       " 'cinema',\n",
       " 'heating',\n",
       " 'builtinWardrobe',\n",
       " 'kitchenCabinets',\n",
       " 'safetyCircuit',\n",
       " 'garage',\n",
       " 'tennisCourt',\n",
       " 'greenSpace',\n",
       " 'squash',\n",
       " 'fireplace',\n",
       " 'homeOffice',\n",
       " 'bathroomCabinets',\n",
       " 'gasShower',\n",
       " 'blindexBox',\n",
       " 'reception',\n",
       " 'cableTv',\n",
       " 'bathtub',\n",
       " 'privatePool',\n",
       " 'backyard',\n",
       " 'grass',\n",
       " 'largeWindow',\n",
       " 'naturalVentilation',\n",
       " 'cooker',\n",
       " 'hikingTrail',\n",
       " 'panoramicView',\n",
       " 'massage',\n",
       " 'freezer']"
      ]
     },
     "execution_count": 2,
     "metadata": {},
     "output_type": "execute_result"
    }
   ],
   "source": [
    "list(data.columns)"
   ]
  },
  {
   "cell_type": "markdown",
   "id": "4fcc2589",
   "metadata": {},
   "source": [
    "---\n",
    "\n",
    "## 2 - 🖥️ Converting characteristic columns to binary type"
   ]
  },
  {
   "cell_type": "markdown",
   "id": "22f8c834",
   "metadata": {},
   "source": [
    "If we look at the `data.head()` above, we see that some columns are binary, in the sense that they are saying whether a certain characteristic belongs to the apartment or not. I'll add a `\"Cat_\"` prefix to them:"
   ]
  },
  {
   "cell_type": "code",
   "execution_count": 3,
   "id": "a0add119",
   "metadata": {},
   "outputs": [
    {
     "data": {
      "text/plain": [
       "['id',\n",
       " 'tag_card',\n",
       " 'business_type',\n",
       " 'price',\n",
       " 'condo_fee',\n",
       " 'iptu',\n",
       " 'address',\n",
       " 'floorSize',\n",
       " 'numberOfRooms',\n",
       " 'numberOfBathroomsTotal',\n",
       " 'numberOfParkingSpaces',\n",
       " 'floorLevel',\n",
       " 'Cat_pool',\n",
       " 'Cat_elevator',\n",
       " 'Cat_barbecueGrill',\n",
       " 'Cat_gatedCommunity',\n",
       " 'Cat_gym',\n",
       " 'Cat_gourmetSpace',\n",
       " 'Cat_garden',\n",
       " 'Cat_playground',\n",
       " 'Cat_partyHall',\n",
       " 'Cat_laundry',\n",
       " 'Cat_disabledAccess',\n",
       " 'Cat_coworking',\n",
       " 'Cat_electronicGate',\n",
       " 'Cat_sauna',\n",
       " 'Cat_spa',\n",
       " 'complete_description',\n",
       " 'Cat_petsAllowed',\n",
       " 'Cat_airConditioning',\n",
       " 'Cat_gourmetBalcony',\n",
       " 'Cat_sportsCourt',\n",
       " 'Cat_bicyclesPlace',\n",
       " 'Cat_concierge24h',\n",
       " 'Cat_americanKitchen',\n",
       " 'Cat_balcony',\n",
       " 'Cat_intercom',\n",
       " 'Cat_serviceArea',\n",
       " 'Cat_largeKitchen',\n",
       " 'Cat_furnished',\n",
       " 'Cat_kitchen',\n",
       " 'Cat_adultGameRoom',\n",
       " 'Cat_deposit',\n",
       " 'Cat_watchman',\n",
       " 'Cat_security24Hours',\n",
       " 'Cat_bedroomWardrobe',\n",
       " 'Cat_internetAccess',\n",
       " 'Cat_closet',\n",
       " 'Cat_gourmetKitchen',\n",
       " 'Cat_electricGenerator',\n",
       " 'Cat_alarmSystem',\n",
       " 'Cat_toysPlace',\n",
       " 'Cat_cinema',\n",
       " 'Cat_heating',\n",
       " 'Cat_builtinWardrobe',\n",
       " 'Cat_kitchenCabinets',\n",
       " 'Cat_safetyCircuit',\n",
       " 'Cat_garage',\n",
       " 'Cat_tennisCourt',\n",
       " 'Cat_greenSpace',\n",
       " 'Cat_squash',\n",
       " 'Cat_fireplace',\n",
       " 'Cat_homeOffice',\n",
       " 'Cat_bathroomCabinets',\n",
       " 'Cat_gasShower',\n",
       " 'Cat_blindexBox',\n",
       " 'Cat_reception',\n",
       " 'Cat_cableTv',\n",
       " 'Cat_bathtub',\n",
       " 'Cat_privatePool',\n",
       " 'Cat_backyard',\n",
       " 'Cat_grass',\n",
       " 'Cat_largeWindow',\n",
       " 'Cat_naturalVentilation',\n",
       " 'Cat_cooker',\n",
       " 'Cat_hikingTrail',\n",
       " 'Cat_panoramicView',\n",
       " 'Cat_massage',\n",
       " 'Cat_freezer']"
      ]
     },
     "execution_count": 3,
     "metadata": {},
     "output_type": "execute_result"
    }
   ],
   "source": [
    "data.columns = list(data.columns[:12]) + [\"Cat_\" + col  if col != \"complete_description\" else col for col in list(data.columns[12:])]\n",
    "list(data.columns)"
   ]
  },
  {
   "cell_type": "markdown",
   "id": "70153c5a",
   "metadata": {},
   "source": [
    "Much better! Now let's transform the columns to binary:"
   ]
  },
  {
   "cell_type": "code",
   "execution_count": 4,
   "id": "1f4b888d",
   "metadata": {},
   "outputs": [
    {
     "data": {
      "text/html": [
       "<div>\n",
       "<style scoped>\n",
       "    .dataframe tbody tr th:only-of-type {\n",
       "        vertical-align: middle;\n",
       "    }\n",
       "\n",
       "    .dataframe tbody tr th {\n",
       "        vertical-align: top;\n",
       "    }\n",
       "\n",
       "    .dataframe thead th {\n",
       "        text-align: right;\n",
       "    }\n",
       "</style>\n",
       "<table border=\"1\" class=\"dataframe\">\n",
       "  <thead>\n",
       "    <tr style=\"text-align: right;\">\n",
       "      <th></th>\n",
       "      <th>Cat_pool</th>\n",
       "      <th>Cat_elevator</th>\n",
       "      <th>Cat_barbecueGrill</th>\n",
       "      <th>Cat_gatedCommunity</th>\n",
       "      <th>Cat_gym</th>\n",
       "      <th>Cat_gourmetSpace</th>\n",
       "      <th>Cat_garden</th>\n",
       "      <th>Cat_playground</th>\n",
       "      <th>Cat_partyHall</th>\n",
       "      <th>Cat_laundry</th>\n",
       "      <th>...</th>\n",
       "      <th>Cat_privatePool</th>\n",
       "      <th>Cat_backyard</th>\n",
       "      <th>Cat_grass</th>\n",
       "      <th>Cat_largeWindow</th>\n",
       "      <th>Cat_naturalVentilation</th>\n",
       "      <th>Cat_cooker</th>\n",
       "      <th>Cat_hikingTrail</th>\n",
       "      <th>Cat_panoramicView</th>\n",
       "      <th>Cat_massage</th>\n",
       "      <th>Cat_freezer</th>\n",
       "    </tr>\n",
       "  </thead>\n",
       "  <tbody>\n",
       "    <tr>\n",
       "      <th>0</th>\n",
       "      <td>1</td>\n",
       "      <td>1</td>\n",
       "      <td>1</td>\n",
       "      <td>1</td>\n",
       "      <td>1</td>\n",
       "      <td>1</td>\n",
       "      <td>1</td>\n",
       "      <td>1</td>\n",
       "      <td>1</td>\n",
       "      <td>1</td>\n",
       "      <td>...</td>\n",
       "      <td>0</td>\n",
       "      <td>0</td>\n",
       "      <td>0</td>\n",
       "      <td>0</td>\n",
       "      <td>0</td>\n",
       "      <td>0</td>\n",
       "      <td>0</td>\n",
       "      <td>0</td>\n",
       "      <td>0</td>\n",
       "      <td>0</td>\n",
       "    </tr>\n",
       "    <tr>\n",
       "      <th>1</th>\n",
       "      <td>0</td>\n",
       "      <td>0</td>\n",
       "      <td>0</td>\n",
       "      <td>0</td>\n",
       "      <td>0</td>\n",
       "      <td>0</td>\n",
       "      <td>0</td>\n",
       "      <td>0</td>\n",
       "      <td>0</td>\n",
       "      <td>0</td>\n",
       "      <td>...</td>\n",
       "      <td>0</td>\n",
       "      <td>0</td>\n",
       "      <td>0</td>\n",
       "      <td>0</td>\n",
       "      <td>0</td>\n",
       "      <td>0</td>\n",
       "      <td>0</td>\n",
       "      <td>0</td>\n",
       "      <td>0</td>\n",
       "      <td>0</td>\n",
       "    </tr>\n",
       "    <tr>\n",
       "      <th>2</th>\n",
       "      <td>0</td>\n",
       "      <td>0</td>\n",
       "      <td>0</td>\n",
       "      <td>0</td>\n",
       "      <td>0</td>\n",
       "      <td>0</td>\n",
       "      <td>0</td>\n",
       "      <td>0</td>\n",
       "      <td>0</td>\n",
       "      <td>0</td>\n",
       "      <td>...</td>\n",
       "      <td>0</td>\n",
       "      <td>0</td>\n",
       "      <td>0</td>\n",
       "      <td>0</td>\n",
       "      <td>0</td>\n",
       "      <td>0</td>\n",
       "      <td>0</td>\n",
       "      <td>0</td>\n",
       "      <td>0</td>\n",
       "      <td>0</td>\n",
       "    </tr>\n",
       "    <tr>\n",
       "      <th>3</th>\n",
       "      <td>1</td>\n",
       "      <td>1</td>\n",
       "      <td>1</td>\n",
       "      <td>1</td>\n",
       "      <td>1</td>\n",
       "      <td>1</td>\n",
       "      <td>1</td>\n",
       "      <td>1</td>\n",
       "      <td>1</td>\n",
       "      <td>0</td>\n",
       "      <td>...</td>\n",
       "      <td>0</td>\n",
       "      <td>0</td>\n",
       "      <td>0</td>\n",
       "      <td>0</td>\n",
       "      <td>0</td>\n",
       "      <td>0</td>\n",
       "      <td>0</td>\n",
       "      <td>0</td>\n",
       "      <td>0</td>\n",
       "      <td>0</td>\n",
       "    </tr>\n",
       "    <tr>\n",
       "      <th>4</th>\n",
       "      <td>0</td>\n",
       "      <td>0</td>\n",
       "      <td>0</td>\n",
       "      <td>0</td>\n",
       "      <td>0</td>\n",
       "      <td>0</td>\n",
       "      <td>0</td>\n",
       "      <td>0</td>\n",
       "      <td>0</td>\n",
       "      <td>0</td>\n",
       "      <td>...</td>\n",
       "      <td>0</td>\n",
       "      <td>0</td>\n",
       "      <td>0</td>\n",
       "      <td>0</td>\n",
       "      <td>0</td>\n",
       "      <td>0</td>\n",
       "      <td>0</td>\n",
       "      <td>0</td>\n",
       "      <td>0</td>\n",
       "      <td>0</td>\n",
       "    </tr>\n",
       "  </tbody>\n",
       "</table>\n",
       "<p>5 rows × 66 columns</p>\n",
       "</div>"
      ],
      "text/plain": [
       "   Cat_pool  Cat_elevator  Cat_barbecueGrill  Cat_gatedCommunity  Cat_gym  \\\n",
       "0         1             1                  1                   1        1   \n",
       "1         0             0                  0                   0        0   \n",
       "2         0             0                  0                   0        0   \n",
       "3         1             1                  1                   1        1   \n",
       "4         0             0                  0                   0        0   \n",
       "\n",
       "   Cat_gourmetSpace  Cat_garden  Cat_playground  Cat_partyHall  Cat_laundry  \\\n",
       "0                 1           1               1              1            1   \n",
       "1                 0           0               0              0            0   \n",
       "2                 0           0               0              0            0   \n",
       "3                 1           1               1              1            0   \n",
       "4                 0           0               0              0            0   \n",
       "\n",
       "   ...  Cat_privatePool  Cat_backyard  Cat_grass  Cat_largeWindow  \\\n",
       "0  ...                0             0          0                0   \n",
       "1  ...                0             0          0                0   \n",
       "2  ...                0             0          0                0   \n",
       "3  ...                0             0          0                0   \n",
       "4  ...                0             0          0                0   \n",
       "\n",
       "   Cat_naturalVentilation  Cat_cooker  Cat_hikingTrail  Cat_panoramicView  \\\n",
       "0                       0           0                0                  0   \n",
       "1                       0           0                0                  0   \n",
       "2                       0           0                0                  0   \n",
       "3                       0           0                0                  0   \n",
       "4                       0           0                0                  0   \n",
       "\n",
       "   Cat_massage  Cat_freezer  \n",
       "0            0            0  \n",
       "1            0            0  \n",
       "2            0            0  \n",
       "3            0            0  \n",
       "4            0            0  \n",
       "\n",
       "[5 rows x 66 columns]"
      ]
     },
     "execution_count": 4,
     "metadata": {},
     "output_type": "execute_result"
    }
   ],
   "source": [
    "categorical_columns = [col for col in data.columns if \"Cat_\" in col]\n",
    "\n",
    "data[categorical_columns] = data[categorical_columns].notna() + 0 # to force numerical output\n",
    "data[categorical_columns].head(5)"
   ]
  },
  {
   "cell_type": "markdown",
   "id": "3c89018d",
   "metadata": {},
   "source": [
    "---\n",
    "\n",
    "## 3 - 🔢 Cleaning the numeric columns\n",
    "\n",
    "As already said, numeric columns are dirty with strings. So in this section they will be cleaned to include only numeric values."
   ]
  },
  {
   "cell_type": "markdown",
   "id": "f7e33179",
   "metadata": {},
   "source": [
    "### Price\n",
    "\n",
    "- The price column displays `\"R$\"` and `\".\"` in the values that present the price of the apartments and `\"Sob consulta\"` (\"On request\") when the price is not available.\n",
    "\n",
    "- The final value needs to be converted to float."
   ]
  },
  {
   "cell_type": "code",
   "execution_count": 5,
   "id": "4f5c88c3",
   "metadata": {},
   "outputs": [
    {
     "name": "stdout",
     "output_type": "stream",
     "text": [
      "R$ 949.900\n",
      "['Sob consulta']\n",
      "Total rows without prices: 6\n"
     ]
    }
   ],
   "source": [
    "print(data[\"price\"][0])\n",
    "print(data[\"price\"][data[\"price\"].apply(lambda x: \"R$\" not in x)].unique())\n",
    "print(f\"Total rows without prices: {len(data['price'][data['price'].apply(lambda x: 'R$' not in x)])}\")"
   ]
  },
  {
   "cell_type": "code",
   "execution_count": 6,
   "id": "fe1e717e",
   "metadata": {},
   "outputs": [
    {
     "data": {
      "text/plain": [
       "array([], dtype=object)"
      ]
     },
     "execution_count": 6,
     "metadata": {},
     "output_type": "execute_result"
    }
   ],
   "source": [
    "data = data[data[\"price\"].apply(lambda x: \"R$\" in x)].copy()\n",
    "data[\"price\"][data[\"price\"].apply(lambda x: \"R$\" not in x)].unique()"
   ]
  },
  {
   "cell_type": "code",
   "execution_count": 7,
   "id": "e6c3b39a",
   "metadata": {},
   "outputs": [
    {
     "data": {
      "text/plain": [
       "0    949900.0\n",
       "1    760000.0\n",
       "2    350000.0\n",
       "3    523000.0\n",
       "4    624700.0\n",
       "5    374813.0\n",
       "6    700000.0\n",
       "7    450000.0\n",
       "8    420000.0\n",
       "9    440000.0\n",
       "Name: price, dtype: float32"
      ]
     },
     "execution_count": 7,
     "metadata": {},
     "output_type": "execute_result"
    }
   ],
   "source": [
    "data[\"price\"] = pd.to_numeric(data[\"price\"].str.replace(\"R$ \", \"\").str.replace(\".\", \"\"), downcast='float')\n",
    "data[\"price\"][:10]"
   ]
  },
  {
   "cell_type": "markdown",
   "id": "bb00cd61",
   "metadata": {},
   "source": [
    "### Condominium fee\n",
    "\n",
    "- The `condo_fee` column displays `\"R$\"` and `\".\"` in the values that present the price of the condominium fee and `\"não informado\"` (\"Not informed\") or simply `\"nan\"` when the value is not available.\n",
    "\n",
    "- The final value needs to be converted to float."
   ]
  },
  {
   "cell_type": "code",
   "execution_count": 8,
   "id": "e228500a",
   "metadata": {},
   "outputs": [
    {
     "name": "stdout",
     "output_type": "stream",
     "text": [
      "R$ 790\n",
      "['nan' 'não informado']\n",
      "Total rows without condo fees: 2121\n"
     ]
    }
   ],
   "source": [
    "data[\"condo_fee\"] = data[\"condo_fee\"].astype(str)\n",
    "print(data[\"condo_fee\"][0])\n",
    "print(data[\"condo_fee\"][data[\"condo_fee\"].apply(lambda x: 'R$' not in x)].unique())\n",
    "print(f\"Total rows without condo fees: {len(data['condo_fee'][data['condo_fee'].apply(lambda x: 'R$' not in x)])}\")"
   ]
  },
  {
   "cell_type": "code",
   "execution_count": 9,
   "id": "f195d8c5",
   "metadata": {},
   "outputs": [
    {
     "name": "stdout",
     "output_type": "stream",
     "text": [
      "['']\n"
     ]
    }
   ],
   "source": [
    "data.loc[data[\"condo_fee\"].apply(lambda x: 'R$' not in x), \"condo_fee\"] = \"\"\n",
    "print(data[\"condo_fee\"][data[\"condo_fee\"].apply(lambda x: 'R$' not in x)].unique())"
   ]
  },
  {
   "cell_type": "code",
   "execution_count": 10,
   "id": "3243d951",
   "metadata": {},
   "outputs": [
    {
     "data": {
      "text/plain": [
       "0    790.0\n",
       "1      NaN\n",
       "2    270.0\n",
       "3    500.0\n",
       "4    500.0\n",
       "5      NaN\n",
       "6    700.0\n",
       "7    350.0\n",
       "8      NaN\n",
       "9    390.0\n",
       "Name: condo_fee, dtype: float32"
      ]
     },
     "execution_count": 10,
     "metadata": {},
     "output_type": "execute_result"
    }
   ],
   "source": [
    "data[\"condo_fee\"] = pd.to_numeric(data[\"condo_fee\"].str.replace(\"R$ \", \"\").str.replace(\".\", \"\"), downcast='float')\n",
    "data[\"condo_fee\"][:10]"
   ]
  },
  {
   "cell_type": "markdown",
   "id": "38e66240",
   "metadata": {},
   "source": [
    "### IPTU (Urban Building and Land Tax)\n",
    "\n",
    "- The `iptu` column displays `\"R$\"`, `\".\"` and `\"/ano\"` (\"/year\") in the values that present the iptu value and `\"não informado\"` (\"not informed\") or simply `\"nan\"` when the value is not available.\n",
    "\n",
    "- The final value needs to be converted to float."
   ]
  },
  {
   "cell_type": "code",
   "execution_count": 11,
   "id": "8955c21d",
   "metadata": {},
   "outputs": [
    {
     "name": "stdout",
     "output_type": "stream",
     "text": [
      "R$ 1.900/ano\n",
      "['nan' 'não informado']\n",
      "Total rows without iptu: 3953\n"
     ]
    }
   ],
   "source": [
    "data[\"iptu\"] = data[\"iptu\"].astype(str)\n",
    "print(data[\"iptu\"][0])\n",
    "print(data[\"iptu\"][data[\"iptu\"].apply(lambda x: 'R$' not in x)].unique())\n",
    "print(f\"Total rows without iptu: {len(data['iptu'][data['iptu'].apply(lambda x: 'R$' not in x)])}\")"
   ]
  },
  {
   "cell_type": "code",
   "execution_count": 12,
   "id": "5ca1a56c",
   "metadata": {},
   "outputs": [
    {
     "name": "stdout",
     "output_type": "stream",
     "text": [
      "['']\n"
     ]
    }
   ],
   "source": [
    "data.loc[data[\"iptu\"].apply(lambda x: 'R$' not in x), \"iptu\"] = \"\"\n",
    "print(data[\"iptu\"][data[\"iptu\"].apply(lambda x: 'R$' not in x)].unique())"
   ]
  },
  {
   "cell_type": "code",
   "execution_count": 13,
   "id": "747d33c7",
   "metadata": {},
   "outputs": [
    {
     "data": {
      "text/plain": [
       "0    1900.0\n",
       "1       NaN\n",
       "2     250.0\n",
       "3     800.0\n",
       "4     900.0\n",
       "5       NaN\n",
       "6     900.0\n",
       "7       NaN\n",
       "8       NaN\n",
       "9       NaN\n",
       "Name: iptu, dtype: float32"
      ]
     },
     "execution_count": 13,
     "metadata": {},
     "output_type": "execute_result"
    }
   ],
   "source": [
    "data[\"iptu\"] = pd.to_numeric(data[\"iptu\"].str.replace(\"R$ \", \"\")\\\n",
    "                             .str.replace(\".\", \"\")\\\n",
    "                             .str.replace(\"/ano\", \"\"), downcast='float')\n",
    "data[\"iptu\"][:10]"
   ]
  },
  {
   "cell_type": "markdown",
   "id": "c6987543",
   "metadata": {},
   "source": [
    "### Floor size ($m^2$)\n",
    "\n",
    "- The floorSize column displays \"m²\" in the values that present the floor size of the apartment. There is no missing values for this column.\n",
    "\n",
    "- The final value needs to be converted to float."
   ]
  },
  {
   "cell_type": "code",
   "execution_count": 15,
   "id": "f5d0fe73",
   "metadata": {},
   "outputs": [
    {
     "name": "stdout",
     "output_type": "stream",
     "text": [
      "130 m²\n",
      "[]\n",
      "Total rows without floor size: 0\n"
     ]
    }
   ],
   "source": [
    "print(data[\"floorSize\"][0])\n",
    "print(data[\"floorSize\"][data[\"floorSize\"].apply(lambda x: 'm²' not in x)].unique())\n",
    "print(f\"Total rows without floor size: {len(data['floorSize'][data['floorSize'].apply(lambda x: 'm²' not in x)])}\")"
   ]
  },
  {
   "cell_type": "code",
   "execution_count": 16,
   "id": "0ce96873",
   "metadata": {},
   "outputs": [
    {
     "data": {
      "text/plain": [
       "0    130.0\n",
       "1     90.0\n",
       "2     57.0\n",
       "3     74.0\n",
       "4     72.0\n",
       "5     61.0\n",
       "6    100.0\n",
       "7     58.0\n",
       "8     69.0\n",
       "9     77.0\n",
       "Name: floorSize, dtype: float32"
      ]
     },
     "execution_count": 16,
     "metadata": {},
     "output_type": "execute_result"
    }
   ],
   "source": [
    "def temp(x):\n",
    "    x = x.replace(\" m²\", \"\")\n",
    "    if \" - \" not in x:\n",
    "        return x\n",
    "    else:\n",
    "        x = x.split(\" - \")\n",
    "        x = [float(y) for y in x]\n",
    "        return np.mean(x)\n",
    "\n",
    "data[\"floorSize\"] = pd.to_numeric(data[\"floorSize\"].apply(temp), downcast='float')\n",
    "data[\"floorSize\"][:10]"
   ]
  },
  {
   "cell_type": "markdown",
   "id": "6c7927f6",
   "metadata": {},
   "source": [
    "### Number of rooms\n",
    "\n",
    "- The numberOfRooms column displays `\"quarto\"` (\"room\") or `\"quartos\"` (\"rooms\") in the values that present the number of rooms of the apartment. There is only 2 missing values for this column.\n",
    "\n",
    "- The final value needs to be converted to float."
   ]
  },
  {
   "cell_type": "code",
   "execution_count": 17,
   "id": "64030996",
   "metadata": {},
   "outputs": [
    {
     "name": "stdout",
     "output_type": "stream",
     "text": [
      "3 quartos\n",
      "['nan']\n",
      "Total rows without number of rooms: 2\n"
     ]
    }
   ],
   "source": [
    "data[\"numberOfRooms\"] = data[\"numberOfRooms\"].astype(str)\n",
    "print(data[\"numberOfRooms\"][0])\n",
    "print(data[\"numberOfRooms\"][data[\"numberOfRooms\"].apply(lambda x: ' quarto' not in x)].unique())\n",
    "print(f\"Total rows without number of rooms: {len(data['numberOfRooms'][data['numberOfRooms'].apply(lambda x: 'quarto' not in x)])}\")"
   ]
  },
  {
   "cell_type": "code",
   "execution_count": 18,
   "id": "6eda783a",
   "metadata": {},
   "outputs": [
    {
     "name": "stdout",
     "output_type": "stream",
     "text": [
      "['']\n"
     ]
    }
   ],
   "source": [
    "data.loc[data[\"numberOfRooms\"].apply(lambda x: ' quarto' not in x), \"numberOfRooms\"] = \"\"\n",
    "print(data[\"numberOfRooms\"][data[\"numberOfRooms\"].apply(lambda x: ' quarto' not in x)].unique())"
   ]
  },
  {
   "cell_type": "code",
   "execution_count": 19,
   "id": "0b483a84",
   "metadata": {},
   "outputs": [
    {
     "data": {
      "text/plain": [
       "0    3.0\n",
       "1    2.5\n",
       "2    2.0\n",
       "3    3.0\n",
       "4    2.0\n",
       "5    2.0\n",
       "6    3.0\n",
       "7    2.0\n",
       "8    2.5\n",
       "9    3.0\n",
       "Name: numberOfRooms, dtype: float32"
      ]
     },
     "execution_count": 19,
     "metadata": {},
     "output_type": "execute_result"
    }
   ],
   "source": [
    "def temp(x):\n",
    "    x = x.replace(\" quarto\", \"\").replace(\"s\", \"\")\n",
    "    if \" - \" not in x:\n",
    "        return x\n",
    "    else:\n",
    "        x = x.split(\" - \")\n",
    "        x = [float(y) for y in x]\n",
    "        return np.mean(x)\n",
    "\n",
    "data[\"numberOfRooms\"] = pd.to_numeric(data[\"numberOfRooms\"].apply(temp), downcast='float')\n",
    "data[\"numberOfRooms\"][:10]"
   ]
  },
  {
   "cell_type": "markdown",
   "id": "fdd2a164",
   "metadata": {},
   "source": [
    "### Number of bathrooms\n",
    "\n",
    "- The numberOfBathroomsTotal column displays `\"banheiro\"` (\"bathroom\") or `\"banheiros\"` (\"bathrooms\") in the values that present the number of bathrooms of the apartment. There is only 2 missing values for this column.\n",
    "\n",
    "- The final value needs to be converted to float."
   ]
  },
  {
   "cell_type": "code",
   "execution_count": 20,
   "id": "792ca71a",
   "metadata": {},
   "outputs": [
    {
     "name": "stdout",
     "output_type": "stream",
     "text": [
      "4 banheiros\n",
      "['nan']\n",
      "Total rows without number of bathrooms: 2\n"
     ]
    }
   ],
   "source": [
    "data[\"numberOfBathroomsTotal\"] = data[\"numberOfBathroomsTotal\"].astype(str)\n",
    "print(data[\"numberOfBathroomsTotal\"][0])\n",
    "print(data[\"numberOfBathroomsTotal\"][data[\"numberOfBathroomsTotal\"].apply(lambda x: ' banheiro' not in x)].unique())\n",
    "print(f\"Total rows without number of bathrooms: {len(data['numberOfBathroomsTotal'][data['numberOfBathroomsTotal'].apply(lambda x: 'banheiro' not in x)])}\")"
   ]
  },
  {
   "cell_type": "code",
   "execution_count": 21,
   "id": "3371cc6f",
   "metadata": {},
   "outputs": [
    {
     "name": "stdout",
     "output_type": "stream",
     "text": [
      "['']\n"
     ]
    }
   ],
   "source": [
    "data.loc[data[\"numberOfBathroomsTotal\"].apply(lambda x: ' banheiro' not in x), \"numberOfBathroomsTotal\"] = \"\"\n",
    "print(data[\"numberOfBathroomsTotal\"][data[\"numberOfBathroomsTotal\"].apply(lambda x: ' banheiro' not in x)].unique())"
   ]
  },
  {
   "cell_type": "code",
   "execution_count": 22,
   "id": "5906b4c8",
   "metadata": {},
   "outputs": [
    {
     "data": {
      "text/plain": [
       "0    4.0\n",
       "1    2.5\n",
       "2    1.0\n",
       "3    3.0\n",
       "4    1.0\n",
       "5    2.0\n",
       "6    4.0\n",
       "7    2.0\n",
       "8    2.0\n",
       "9    2.0\n",
       "Name: numberOfBathroomsTotal, dtype: float32"
      ]
     },
     "execution_count": 22,
     "metadata": {},
     "output_type": "execute_result"
    }
   ],
   "source": [
    "def temp(x):\n",
    "    x = x.replace(\" banheiro\", \"\").replace(\"s\", \"\")\n",
    "    if \" - \" not in x:\n",
    "        return x\n",
    "    else:\n",
    "        x = x.split(\" - \")\n",
    "        x = [float(y) for y in x]\n",
    "        return np.mean(x)\n",
    "\n",
    "data[\"numberOfBathroomsTotal\"] = pd.to_numeric(data[\"numberOfBathroomsTotal\"].apply(temp), downcast='float')\n",
    "data[\"numberOfBathroomsTotal\"][:10]"
   ]
  },
  {
   "cell_type": "markdown",
   "id": "fb0bb248",
   "metadata": {},
   "source": [
    "### Number of parking spaces\n",
    "\n",
    "- The numberOfParkingSpaces column displays `\"vaga\"` (\"space\") or `\"vagas\"` (\"spaces\") in the values that present the number of parking spaces of the apartment. There is 266 missing values for this column.\n",
    "\n",
    "- The final value needs to be converted to float."
   ]
  },
  {
   "cell_type": "code",
   "execution_count": 23,
   "id": "88b2249e",
   "metadata": {},
   "outputs": [
    {
     "name": "stdout",
     "output_type": "stream",
     "text": [
      "2 vagas\n",
      "['nan']\n",
      "Total rows without number of parking spaces: 266\n"
     ]
    }
   ],
   "source": [
    "data[\"numberOfParkingSpaces\"] = data[\"numberOfParkingSpaces\"].astype(str)\n",
    "print(data[\"numberOfParkingSpaces\"][0])\n",
    "print(data[\"numberOfParkingSpaces\"][data[\"numberOfParkingSpaces\"].apply(lambda x: ' vaga' not in x)].unique())\n",
    "print(f\"Total rows without number of parking spaces: {len(data['numberOfParkingSpaces'][data['numberOfParkingSpaces'].apply(lambda x: 'vaga' not in x)])}\")"
   ]
  },
  {
   "cell_type": "code",
   "execution_count": 24,
   "id": "0630e733",
   "metadata": {},
   "outputs": [
    {
     "name": "stdout",
     "output_type": "stream",
     "text": [
      "['']\n"
     ]
    }
   ],
   "source": [
    "data.loc[data[\"numberOfParkingSpaces\"].apply(lambda x: ' vaga' not in x), \"numberOfParkingSpaces\"] = \"\"\n",
    "print(data[\"numberOfParkingSpaces\"][data[\"numberOfParkingSpaces\"].apply(lambda x: ' vaga' not in x)].unique())"
   ]
  },
  {
   "cell_type": "code",
   "execution_count": 25,
   "id": "6b66024f",
   "metadata": {},
   "outputs": [
    {
     "data": {
      "text/plain": [
       "0    2.0\n",
       "1    1.5\n",
       "2    1.0\n",
       "3    1.0\n",
       "4    1.0\n",
       "5    1.0\n",
       "6    2.0\n",
       "7    1.0\n",
       "8    1.5\n",
       "9    1.0\n",
       "Name: numberOfParkingSpaces, dtype: float32"
      ]
     },
     "execution_count": 25,
     "metadata": {},
     "output_type": "execute_result"
    }
   ],
   "source": [
    "def temp(x):\n",
    "    x = x.replace(\" vaga\", \"\").replace(\"s\", \"\")\n",
    "    if \" - \" not in x:\n",
    "        return x\n",
    "    else:\n",
    "        x = x.split(\" - \")\n",
    "        x = [float(y) for y in x]\n",
    "        return np.mean(x)\n",
    "\n",
    "data[\"numberOfParkingSpaces\"] = pd.to_numeric(data[\"numberOfParkingSpaces\"].apply(temp), downcast='float')\n",
    "data[\"numberOfParkingSpaces\"][:10]"
   ]
  },
  {
   "cell_type": "markdown",
   "id": "e41e71e2",
   "metadata": {},
   "source": [
    "### Floor level\n",
    "\n",
    "- The floorLevel column displays `\"andar\"` (\"level\") in the values that present the floor level of the apartment. There is 5339 missing values for this column.\n",
    "\n",
    "- The final value needs to be converted to float."
   ]
  },
  {
   "cell_type": "code",
   "execution_count": 26,
   "id": "6a1e10b1",
   "metadata": {},
   "outputs": [
    {
     "name": "stdout",
     "output_type": "stream",
     "text": [
      "['24 andar' 'nan' '19 andar' '1 andar' '8 andar' '7 andar' '5 andar'\n",
      " '2 andar' '16 andar' '34 andar' '14 andar' '36 andar' '20 andar'\n",
      " '15 andar' '11 andar' '10 andar' '6 andar' '18 andar' '32 andar'\n",
      " '23 andar' '26 andar' '17 andar' '4 andar' '22 andar' '3 andar'\n",
      " '27 andar' '21 andar' '25 andar' '9 andar' '13 andar' '12 andar'\n",
      " '46 andar' '48 andar' '41 andar' '31 andar' '38 andar' '29 andar'\n",
      " '28 andar' '30 andar' '42 andar' '49 andar' '45 andar' '43 andar'\n",
      " '44 andar' '33 andar' '47 andar' '40 andar' '35 andar' '50 andar'\n",
      " '39 andar' '37 andar' '100 andar' '104 andar' '102 andar' '89 andar']\n",
      "Total rows without floor level: 5339\n"
     ]
    }
   ],
   "source": [
    "data[\"floorLevel\"] = data[\"floorLevel\"].astype(str)\n",
    "print(data[\"floorLevel\"].unique())\n",
    "print(f\"Total rows without floor level: {len(data['floorLevel'][data['floorLevel'].apply(lambda x: 'andar' not in x)])}\")"
   ]
  },
  {
   "cell_type": "code",
   "execution_count": 27,
   "id": "a5e05687",
   "metadata": {},
   "outputs": [
    {
     "name": "stdout",
     "output_type": "stream",
     "text": [
      "['']\n"
     ]
    }
   ],
   "source": [
    "data.loc[data[\"floorLevel\"].apply(lambda x: ' andar' not in x), \"floorLevel\"] = \"\"\n",
    "print(data[\"floorLevel\"][data[\"floorLevel\"].apply(lambda x: ' andar' not in x)].unique())"
   ]
  },
  {
   "cell_type": "code",
   "execution_count": 28,
   "id": "91cef356",
   "metadata": {},
   "outputs": [
    {
     "data": {
      "text/plain": [
       "0    24.0\n",
       "1     NaN\n",
       "2    19.0\n",
       "3     1.0\n",
       "4     8.0\n",
       "5     7.0\n",
       "6     NaN\n",
       "7     5.0\n",
       "8     NaN\n",
       "9     NaN\n",
       "Name: floorLevel, dtype: float32"
      ]
     },
     "execution_count": 28,
     "metadata": {},
     "output_type": "execute_result"
    }
   ],
   "source": [
    "data[\"floorLevel\"] = pd.to_numeric(data[\"floorLevel\"].str.replace(\" andar\", \"\"), downcast='float')\n",
    "data[\"floorLevel\"][:10]"
   ]
  },
  {
   "cell_type": "markdown",
   "id": "0325c340",
   "metadata": {},
   "source": [
    "---\n",
    "\n",
    "## 4 - 🗑️ Deleting irrelevant columns for prediction\n",
    "\n",
    "Columns that are irrelevant to the apartment price prediction problem will be excluded. Below I analyze the unique values of these columns, and then I delete them.\n",
    "\n",
    "### Tag card\n",
    "\n",
    "- The tag card column values are, in english: `['Highlighted', 'Under construction', nan, 'Ready to move in', 'Super Highlighted', 'In plan']`. There is no usefulness in this column in terms of apartment price prediction."
   ]
  },
  {
   "cell_type": "code",
   "execution_count": 29,
   "id": "a4b9226d",
   "metadata": {},
   "outputs": [
    {
     "data": {
      "text/plain": [
       "array(['Destaque', 'Em construção', nan, 'Pronto para morar',\n",
       "       'Super Destaque', 'Na planta'], dtype=object)"
      ]
     },
     "execution_count": 29,
     "metadata": {},
     "output_type": "execute_result"
    }
   ],
   "source": [
    "data[\"tag_card\"].unique()"
   ]
  },
  {
   "cell_type": "code",
   "execution_count": 30,
   "id": "58998f2a",
   "metadata": {},
   "outputs": [],
   "source": [
    "data.drop(columns=[\"tag_card\"], inplace=True)"
   ]
  },
  {
   "cell_type": "markdown",
   "id": "4c23213f",
   "metadata": {},
   "source": [
    "### Business type\n",
    "\n",
    "- The business type column tells if the apartment is directly for sale or if the price is above a certain value. I will not use this column for prediction also."
   ]
  },
  {
   "cell_type": "code",
   "execution_count": 31,
   "id": "5effbc08",
   "metadata": {},
   "outputs": [
    {
     "data": {
      "text/plain": [
       "array(['Venda', 'A partir de'], dtype=object)"
      ]
     },
     "execution_count": 31,
     "metadata": {},
     "output_type": "execute_result"
    }
   ],
   "source": [
    "data[\"business_type\"].unique()"
   ]
  },
  {
   "cell_type": "code",
   "execution_count": 32,
   "id": "aff898af",
   "metadata": {},
   "outputs": [],
   "source": [
    "data.drop(columns=[\"business_type\"], inplace=True)"
   ]
  },
  {
   "cell_type": "markdown",
   "id": "9a2eebf7",
   "metadata": {},
   "source": [
    "---\n",
    "\n",
    "## 5 - 🌐 Obtaining the latitude and longitude of the apartments from the address\n",
    "\n",
    "Addresses that do not belong to the city of Goiânia will be excluded. Additionaly, the latitude and longitude of the apartments will be collected from the address of the apartments. For this purpose, the Bing Maps API will be used."
   ]
  },
  {
   "cell_type": "markdown",
   "id": "39f04e7d",
   "metadata": {},
   "source": [
    "### Excluding addresses from other cities"
   ]
  },
  {
   "cell_type": "code",
   "execution_count": 33,
   "id": "154bed4f",
   "metadata": {},
   "outputs": [
    {
     "data": {
      "text/plain": [
       "'Rua C238, 100 - Jardim América, Goiânia - GO'"
      ]
     },
     "execution_count": 33,
     "metadata": {},
     "output_type": "execute_result"
    }
   ],
   "source": [
    "data[\"address\"][0]"
   ]
  },
  {
   "cell_type": "code",
   "execution_count": 34,
   "id": "4ef53b0c",
   "metadata": {},
   "outputs": [
    {
     "data": {
      "text/plain": [
       "3380        Rua Dois - Setor Oeste, Mineiros - GO\n",
       "5611      Rua 9, 253 - Setor Oeste, Anápolis - GO\n",
       "7713         Vila Rosa, Aparecida de Goiânia - GO\n",
       "8264               Setor Aeroporto, Mineiros - GO\n",
       "9194      Rua 9, 253 - Setor Oeste, Anápolis - GO\n",
       "9610    Rua 11, 116 - Setor Oeste, Goianésia - GO\n",
       "Name: address, dtype: object"
      ]
     },
     "execution_count": 34,
     "metadata": {},
     "output_type": "execute_result"
    }
   ],
   "source": [
    "data[\"address\"][data[\"address\"].apply(lambda x: \", Goiânia\" not in x)]"
   ]
  },
  {
   "cell_type": "markdown",
   "id": "e6b30a75",
   "metadata": {},
   "source": [
    "We can see that there is only 6 rows with address that are not from Goiânia. We can simply drop these rows."
   ]
  },
  {
   "cell_type": "code",
   "execution_count": 35,
   "id": "29112dfc",
   "metadata": {},
   "outputs": [
    {
     "data": {
      "text/plain": [
       "Series([], Name: address, dtype: object)"
      ]
     },
     "execution_count": 35,
     "metadata": {},
     "output_type": "execute_result"
    }
   ],
   "source": [
    "data = data[data[\"address\"].apply(lambda x: \", Goiânia\" in x)].copy()\n",
    "data[\"address\"][data[\"address\"].apply(lambda x: \", Goiânia\" not in x)]"
   ]
  },
  {
   "cell_type": "markdown",
   "id": "865b0268",
   "metadata": {},
   "source": [
    "### Bing Maps API"
   ]
  },
  {
   "cell_type": "code",
   "execution_count": 36,
   "id": "af3c7a04",
   "metadata": {},
   "outputs": [],
   "source": [
    "import requests\n",
    "\n",
    "def get_lat_long(address):\n",
    "    bing_api_key = YOUR_API_KEY_HERE\n",
    "    url = f\"http://dev.virtualearth.net/REST/v1/Locations?countryRegion=BR&adminDistrict=GO&addressLine={address}&key={bing_api_key}\"\n",
    "    try:\n",
    "        r = requests.get(url=url)\n",
    "        result = r.json()\n",
    "        return result[\"resourceSets\"][0][\"resources\"][0][\"point\"][\"coordinates\"]\n",
    "    except:\n",
    "        return [np.nan, np.nan]\n",
    "\n",
    "lat = []\n",
    "long = []\n",
    "for address in data[\"address\"]:\n",
    "    coordinates = get_lat_long(address)\n",
    "    lat.append(coordinates[0])\n",
    "    long.append(coordinates[1])\n",
    "    \n",
    "data[\"lat\"] = lat\n",
    "data[\"long\"] = long"
   ]
  },
  {
   "cell_type": "code",
   "execution_count": 37,
   "id": "1df2f8a0",
   "metadata": {},
   "outputs": [
    {
     "data": {
      "text/html": [
       "<div>\n",
       "<style scoped>\n",
       "    .dataframe tbody tr th:only-of-type {\n",
       "        vertical-align: middle;\n",
       "    }\n",
       "\n",
       "    .dataframe tbody tr th {\n",
       "        vertical-align: top;\n",
       "    }\n",
       "\n",
       "    .dataframe thead th {\n",
       "        text-align: right;\n",
       "    }\n",
       "</style>\n",
       "<table border=\"1\" class=\"dataframe\">\n",
       "  <thead>\n",
       "    <tr style=\"text-align: right;\">\n",
       "      <th></th>\n",
       "      <th>address</th>\n",
       "      <th>lat</th>\n",
       "      <th>long</th>\n",
       "    </tr>\n",
       "  </thead>\n",
       "  <tbody>\n",
       "    <tr>\n",
       "      <th>0</th>\n",
       "      <td>Rua C238, 100 - Jardim América, Goiânia - GO</td>\n",
       "      <td>-16.703623</td>\n",
       "      <td>-49.283848</td>\n",
       "    </tr>\n",
       "    <tr>\n",
       "      <th>1</th>\n",
       "      <td>Rua T 30, S/N - Setor Bueno, Goiânia - GO</td>\n",
       "      <td>-16.692724</td>\n",
       "      <td>-49.281982</td>\n",
       "    </tr>\n",
       "    <tr>\n",
       "      <th>2</th>\n",
       "      <td>Avenida Marialva, 435 - Vila Rosa, Goiânia - GO</td>\n",
       "      <td>-16.741176</td>\n",
       "      <td>-49.286743</td>\n",
       "    </tr>\n",
       "    <tr>\n",
       "      <th>3</th>\n",
       "      <td>Rua VV 5, 1 - Residencial Eldorado, Goiânia - GO</td>\n",
       "      <td>-17.907877</td>\n",
       "      <td>-51.745325</td>\n",
       "    </tr>\n",
       "    <tr>\n",
       "      <th>4</th>\n",
       "      <td>Avenida Dona Maria Cardoso, 735 - Parque Amazô...</td>\n",
       "      <td>-16.736175</td>\n",
       "      <td>-49.281285</td>\n",
       "    </tr>\n",
       "    <tr>\n",
       "      <th>5</th>\n",
       "      <td>Rua Dona Isoleta, 3 - Vila Rosa, Goiânia - GO</td>\n",
       "      <td>-16.744317</td>\n",
       "      <td>-49.294897</td>\n",
       "    </tr>\n",
       "    <tr>\n",
       "      <th>6</th>\n",
       "      <td>Rua T 27, 168 - Setor Bueno, Goiânia - GO</td>\n",
       "      <td>-16.688738</td>\n",
       "      <td>-49.278177</td>\n",
       "    </tr>\n",
       "    <tr>\n",
       "      <th>7</th>\n",
       "      <td>Rua Lucila Mazeto, 122 - Vila Rosa, Goiânia - GO</td>\n",
       "      <td>-16.740978</td>\n",
       "      <td>-49.293008</td>\n",
       "    </tr>\n",
       "    <tr>\n",
       "      <th>8</th>\n",
       "      <td>Rua 250, 321 - Setor Coimbra, Goiânia - GO</td>\n",
       "      <td>-16.681497</td>\n",
       "      <td>-49.281586</td>\n",
       "    </tr>\n",
       "    <tr>\n",
       "      <th>9</th>\n",
       "      <td>Rua Caapi, 13 - Parque Amazônia, Goiânia - GO</td>\n",
       "      <td>-16.733955</td>\n",
       "      <td>-49.271160</td>\n",
       "    </tr>\n",
       "  </tbody>\n",
       "</table>\n",
       "</div>"
      ],
      "text/plain": [
       "                                             address        lat       long\n",
       "0       Rua C238, 100 - Jardim América, Goiânia - GO -16.703623 -49.283848\n",
       "1          Rua T 30, S/N - Setor Bueno, Goiânia - GO -16.692724 -49.281982\n",
       "2    Avenida Marialva, 435 - Vila Rosa, Goiânia - GO -16.741176 -49.286743\n",
       "3   Rua VV 5, 1 - Residencial Eldorado, Goiânia - GO -17.907877 -51.745325\n",
       "4  Avenida Dona Maria Cardoso, 735 - Parque Amazô... -16.736175 -49.281285\n",
       "5      Rua Dona Isoleta, 3 - Vila Rosa, Goiânia - GO -16.744317 -49.294897\n",
       "6          Rua T 27, 168 - Setor Bueno, Goiânia - GO -16.688738 -49.278177\n",
       "7   Rua Lucila Mazeto, 122 - Vila Rosa, Goiânia - GO -16.740978 -49.293008\n",
       "8         Rua 250, 321 - Setor Coimbra, Goiânia - GO -16.681497 -49.281586\n",
       "9      Rua Caapi, 13 - Parque Amazônia, Goiânia - GO -16.733955 -49.271160"
      ]
     },
     "execution_count": 37,
     "metadata": {},
     "output_type": "execute_result"
    }
   ],
   "source": [
    "data[[\"address\", \"lat\", \"long\"]].head(10)"
   ]
  },
  {
   "cell_type": "markdown",
   "id": "411a5a0d",
   "metadata": {},
   "source": [
    "---\n",
    "\n",
    "## 6 - 💾 Taking a final look at the data and saving it"
   ]
  },
  {
   "cell_type": "code",
   "execution_count": 38,
   "id": "20beeb4c",
   "metadata": {},
   "outputs": [
    {
     "data": {
      "text/plain": [
       "9827"
      ]
     },
     "execution_count": 38,
     "metadata": {},
     "output_type": "execute_result"
    }
   ],
   "source": [
    "len(data)"
   ]
  },
  {
   "cell_type": "code",
   "execution_count": 39,
   "id": "a868b64a",
   "metadata": {},
   "outputs": [],
   "source": [
    "data.to_csv(\"C:/Users/cego/OneDrive/Área de Trabalho/MESTRADO/Projeto, apartment prices v2/data_cleaning/data.csv\",\n",
    "            index=False,\n",
    "            sep=\"|\")"
   ]
  },
  {
   "cell_type": "code",
   "execution_count": 40,
   "id": "374f7703",
   "metadata": {},
   "outputs": [
    {
     "data": {
      "text/html": [
       "<div>\n",
       "<style scoped>\n",
       "    .dataframe tbody tr th:only-of-type {\n",
       "        vertical-align: middle;\n",
       "    }\n",
       "\n",
       "    .dataframe tbody tr th {\n",
       "        vertical-align: top;\n",
       "    }\n",
       "\n",
       "    .dataframe thead th {\n",
       "        text-align: right;\n",
       "    }\n",
       "</style>\n",
       "<table border=\"1\" class=\"dataframe\">\n",
       "  <thead>\n",
       "    <tr style=\"text-align: right;\">\n",
       "      <th></th>\n",
       "      <th>id</th>\n",
       "      <th>price</th>\n",
       "      <th>condo_fee</th>\n",
       "      <th>iptu</th>\n",
       "      <th>address</th>\n",
       "      <th>floorSize</th>\n",
       "      <th>numberOfRooms</th>\n",
       "      <th>numberOfBathroomsTotal</th>\n",
       "      <th>numberOfParkingSpaces</th>\n",
       "      <th>floorLevel</th>\n",
       "      <th>...</th>\n",
       "      <th>Cat_grass</th>\n",
       "      <th>Cat_largeWindow</th>\n",
       "      <th>Cat_naturalVentilation</th>\n",
       "      <th>Cat_cooker</th>\n",
       "      <th>Cat_hikingTrail</th>\n",
       "      <th>Cat_panoramicView</th>\n",
       "      <th>Cat_massage</th>\n",
       "      <th>Cat_freezer</th>\n",
       "      <th>lat</th>\n",
       "      <th>long</th>\n",
       "    </tr>\n",
       "  </thead>\n",
       "  <tbody>\n",
       "    <tr>\n",
       "      <th>0</th>\n",
       "      <td>62750619205425081544300816117885861273</td>\n",
       "      <td>949900.0</td>\n",
       "      <td>790.0</td>\n",
       "      <td>1900.0</td>\n",
       "      <td>Rua C238, 100 - Jardim América, Goiânia - GO</td>\n",
       "      <td>130.0</td>\n",
       "      <td>3.0</td>\n",
       "      <td>4.0</td>\n",
       "      <td>2.0</td>\n",
       "      <td>24.0</td>\n",
       "      <td>...</td>\n",
       "      <td>0</td>\n",
       "      <td>0</td>\n",
       "      <td>0</td>\n",
       "      <td>0</td>\n",
       "      <td>0</td>\n",
       "      <td>0</td>\n",
       "      <td>0</td>\n",
       "      <td>0</td>\n",
       "      <td>-16.703623</td>\n",
       "      <td>-49.283848</td>\n",
       "    </tr>\n",
       "    <tr>\n",
       "      <th>1</th>\n",
       "      <td>302678336848826931249389939487192177877</td>\n",
       "      <td>760000.0</td>\n",
       "      <td>NaN</td>\n",
       "      <td>NaN</td>\n",
       "      <td>Rua T 30, S/N - Setor Bueno, Goiânia - GO</td>\n",
       "      <td>90.0</td>\n",
       "      <td>2.5</td>\n",
       "      <td>2.5</td>\n",
       "      <td>1.5</td>\n",
       "      <td>NaN</td>\n",
       "      <td>...</td>\n",
       "      <td>0</td>\n",
       "      <td>0</td>\n",
       "      <td>0</td>\n",
       "      <td>0</td>\n",
       "      <td>0</td>\n",
       "      <td>0</td>\n",
       "      <td>0</td>\n",
       "      <td>0</td>\n",
       "      <td>-16.692724</td>\n",
       "      <td>-49.281982</td>\n",
       "    </tr>\n",
       "    <tr>\n",
       "      <th>2</th>\n",
       "      <td>130359292211767838527233708900928593543</td>\n",
       "      <td>350000.0</td>\n",
       "      <td>270.0</td>\n",
       "      <td>250.0</td>\n",
       "      <td>Avenida Marialva, 435 - Vila Rosa, Goiânia - GO</td>\n",
       "      <td>57.0</td>\n",
       "      <td>2.0</td>\n",
       "      <td>1.0</td>\n",
       "      <td>1.0</td>\n",
       "      <td>19.0</td>\n",
       "      <td>...</td>\n",
       "      <td>0</td>\n",
       "      <td>0</td>\n",
       "      <td>0</td>\n",
       "      <td>0</td>\n",
       "      <td>0</td>\n",
       "      <td>0</td>\n",
       "      <td>0</td>\n",
       "      <td>0</td>\n",
       "      <td>-16.741176</td>\n",
       "      <td>-49.286743</td>\n",
       "    </tr>\n",
       "    <tr>\n",
       "      <th>3</th>\n",
       "      <td>191007733490619722070589252030900058169</td>\n",
       "      <td>523000.0</td>\n",
       "      <td>500.0</td>\n",
       "      <td>800.0</td>\n",
       "      <td>Rua VV 5, 1 - Residencial Eldorado, Goiânia - GO</td>\n",
       "      <td>74.0</td>\n",
       "      <td>3.0</td>\n",
       "      <td>3.0</td>\n",
       "      <td>1.0</td>\n",
       "      <td>1.0</td>\n",
       "      <td>...</td>\n",
       "      <td>0</td>\n",
       "      <td>0</td>\n",
       "      <td>0</td>\n",
       "      <td>0</td>\n",
       "      <td>0</td>\n",
       "      <td>0</td>\n",
       "      <td>0</td>\n",
       "      <td>0</td>\n",
       "      <td>-17.907877</td>\n",
       "      <td>-51.745325</td>\n",
       "    </tr>\n",
       "    <tr>\n",
       "      <th>4</th>\n",
       "      <td>200978065182550317495009592604134775241</td>\n",
       "      <td>624700.0</td>\n",
       "      <td>500.0</td>\n",
       "      <td>900.0</td>\n",
       "      <td>Avenida Dona Maria Cardoso, 735 - Parque Amazô...</td>\n",
       "      <td>72.0</td>\n",
       "      <td>2.0</td>\n",
       "      <td>1.0</td>\n",
       "      <td>1.0</td>\n",
       "      <td>8.0</td>\n",
       "      <td>...</td>\n",
       "      <td>0</td>\n",
       "      <td>0</td>\n",
       "      <td>0</td>\n",
       "      <td>0</td>\n",
       "      <td>0</td>\n",
       "      <td>0</td>\n",
       "      <td>0</td>\n",
       "      <td>0</td>\n",
       "      <td>-16.736175</td>\n",
       "      <td>-49.281285</td>\n",
       "    </tr>\n",
       "  </tbody>\n",
       "</table>\n",
       "<p>5 rows × 79 columns</p>\n",
       "</div>"
      ],
      "text/plain": [
       "                                        id     price  condo_fee    iptu  \\\n",
       "0   62750619205425081544300816117885861273  949900.0      790.0  1900.0   \n",
       "1  302678336848826931249389939487192177877  760000.0        NaN     NaN   \n",
       "2  130359292211767838527233708900928593543  350000.0      270.0   250.0   \n",
       "3  191007733490619722070589252030900058169  523000.0      500.0   800.0   \n",
       "4  200978065182550317495009592604134775241  624700.0      500.0   900.0   \n",
       "\n",
       "                                             address  floorSize  \\\n",
       "0       Rua C238, 100 - Jardim América, Goiânia - GO      130.0   \n",
       "1          Rua T 30, S/N - Setor Bueno, Goiânia - GO       90.0   \n",
       "2    Avenida Marialva, 435 - Vila Rosa, Goiânia - GO       57.0   \n",
       "3   Rua VV 5, 1 - Residencial Eldorado, Goiânia - GO       74.0   \n",
       "4  Avenida Dona Maria Cardoso, 735 - Parque Amazô...       72.0   \n",
       "\n",
       "   numberOfRooms  numberOfBathroomsTotal  numberOfParkingSpaces  floorLevel  \\\n",
       "0            3.0                     4.0                    2.0        24.0   \n",
       "1            2.5                     2.5                    1.5         NaN   \n",
       "2            2.0                     1.0                    1.0        19.0   \n",
       "3            3.0                     3.0                    1.0         1.0   \n",
       "4            2.0                     1.0                    1.0         8.0   \n",
       "\n",
       "   ...  Cat_grass  Cat_largeWindow  Cat_naturalVentilation  Cat_cooker  \\\n",
       "0  ...          0                0                       0           0   \n",
       "1  ...          0                0                       0           0   \n",
       "2  ...          0                0                       0           0   \n",
       "3  ...          0                0                       0           0   \n",
       "4  ...          0                0                       0           0   \n",
       "\n",
       "   Cat_hikingTrail  Cat_panoramicView  Cat_massage  Cat_freezer        lat  \\\n",
       "0                0                  0            0            0 -16.703623   \n",
       "1                0                  0            0            0 -16.692724   \n",
       "2                0                  0            0            0 -16.741176   \n",
       "3                0                  0            0            0 -17.907877   \n",
       "4                0                  0            0            0 -16.736175   \n",
       "\n",
       "        long  \n",
       "0 -49.283848  \n",
       "1 -49.281982  \n",
       "2 -49.286743  \n",
       "3 -51.745325  \n",
       "4 -49.281285  \n",
       "\n",
       "[5 rows x 79 columns]"
      ]
     },
     "execution_count": 40,
     "metadata": {},
     "output_type": "execute_result"
    }
   ],
   "source": [
    "data.head()"
   ]
  }
 ],
 "metadata": {
  "kernelspec": {
   "display_name": "Python 3 (ipykernel)",
   "language": "python",
   "name": "python3"
  },
  "language_info": {
   "codemirror_mode": {
    "name": "ipython",
    "version": 3
   },
   "file_extension": ".py",
   "mimetype": "text/x-python",
   "name": "python",
   "nbconvert_exporter": "python",
   "pygments_lexer": "ipython3",
   "version": "3.11.5"
  }
 },
 "nbformat": 4,
 "nbformat_minor": 5
}
