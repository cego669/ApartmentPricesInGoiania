{
 "cells": [
  {
   "cell_type": "markdown",
   "metadata": {},
   "source": [
    "# Feature extraction from the images\n",
    "\n",
    "This notebook includes all the code that was used to perform feature extraction from the main images of the apartments. The features extracted corresponds to the final output of the last convolutional layer of the [ResNet18](https://pytorch.org/vision/main/models/generated/torchvision.models.resnet18.html) neural network architecture pretrained with the [ImageNet](https://www.image-net.org/) dataset.\n",
    "\n",
    "I ran this code as a kaggle notebook so I could use a GPU to accelerate all the process.\n",
    "\n",
    "The extraction of the output of the last convolutional layer was possible due to the [`torchdistill package`](https://yoshitomo-matsubara.net/torchdistill/), from where I loaded the `ForwardHoodManager`. Credits to the author!"
   ]
  },
  {
   "cell_type": "code",
   "execution_count": 1,
   "metadata": {
    "execution": {
     "iopub.execute_input": "2024-07-23T12:26:03.971693Z",
     "iopub.status.busy": "2024-07-23T12:26:03.971415Z",
     "iopub.status.idle": "2024-07-23T12:26:24.060901Z",
     "shell.execute_reply": "2024-07-23T12:26:24.060012Z",
     "shell.execute_reply.started": "2024-07-23T12:26:03.971668Z"
    }
   },
   "outputs": [
    {
     "name": "stdout",
     "output_type": "stream",
     "text": [
      "Collecting torchdistill\n",
      "  Downloading torchdistill-1.1.0-py3-none-any.whl.metadata (20 kB)\n",
      "Requirement already satisfied: torch>=2.0.0 in /opt/conda/lib/python3.10/site-packages (from torchdistill) (2.1.2)\n",
      "Requirement already satisfied: torchvision>=0.15.1 in /opt/conda/lib/python3.10/site-packages (from torchdistill) (0.16.2)\n",
      "Requirement already satisfied: numpy in /opt/conda/lib/python3.10/site-packages (from torchdistill) (1.26.4)\n",
      "Requirement already satisfied: pyyaml>=6.0 in /opt/conda/lib/python3.10/site-packages (from torchdistill) (6.0.1)\n",
      "Requirement already satisfied: scipy in /opt/conda/lib/python3.10/site-packages (from torchdistill) (1.11.4)\n",
      "Requirement already satisfied: cython in /opt/conda/lib/python3.10/site-packages (from torchdistill) (3.0.8)\n",
      "Requirement already satisfied: filelock in /opt/conda/lib/python3.10/site-packages (from torch>=2.0.0->torchdistill) (3.13.1)\n",
      "Requirement already satisfied: typing-extensions in /opt/conda/lib/python3.10/site-packages (from torch>=2.0.0->torchdistill) (4.9.0)\n",
      "Requirement already satisfied: sympy in /opt/conda/lib/python3.10/site-packages (from torch>=2.0.0->torchdistill) (1.13.0)\n",
      "Requirement already satisfied: networkx in /opt/conda/lib/python3.10/site-packages (from torch>=2.0.0->torchdistill) (3.2.1)\n",
      "Requirement already satisfied: jinja2 in /opt/conda/lib/python3.10/site-packages (from torch>=2.0.0->torchdistill) (3.1.2)\n",
      "Requirement already satisfied: fsspec in /opt/conda/lib/python3.10/site-packages (from torch>=2.0.0->torchdistill) (2024.5.0)\n",
      "Requirement already satisfied: requests in /opt/conda/lib/python3.10/site-packages (from torchvision>=0.15.1->torchdistill) (2.32.3)\n",
      "Requirement already satisfied: pillow!=8.3.*,>=5.3.0 in /opt/conda/lib/python3.10/site-packages (from torchvision>=0.15.1->torchdistill) (9.5.0)\n",
      "Requirement already satisfied: MarkupSafe>=2.0 in /opt/conda/lib/python3.10/site-packages (from jinja2->torch>=2.0.0->torchdistill) (2.1.3)\n",
      "Requirement already satisfied: charset-normalizer<4,>=2 in /opt/conda/lib/python3.10/site-packages (from requests->torchvision>=0.15.1->torchdistill) (3.3.2)\n",
      "Requirement already satisfied: idna<4,>=2.5 in /opt/conda/lib/python3.10/site-packages (from requests->torchvision>=0.15.1->torchdistill) (3.6)\n",
      "Requirement already satisfied: urllib3<3,>=1.21.1 in /opt/conda/lib/python3.10/site-packages (from requests->torchvision>=0.15.1->torchdistill) (1.26.18)\n",
      "Requirement already satisfied: certifi>=2017.4.17 in /opt/conda/lib/python3.10/site-packages (from requests->torchvision>=0.15.1->torchdistill) (2024.7.4)\n",
      "Requirement already satisfied: mpmath<1.4,>=1.1.0 in /opt/conda/lib/python3.10/site-packages (from sympy->torch>=2.0.0->torchdistill) (1.3.0)\n",
      "Downloading torchdistill-1.1.0-py3-none-any.whl (96 kB)\n",
      "\u001b[2K   \u001b[90m━━━━━━━━━━━━━━━━━━━━━━━━━━━━━━━━━━━━━━━━\u001b[0m \u001b[32m96.1/96.1 kB\u001b[0m \u001b[31m2.4 MB/s\u001b[0m eta \u001b[36m0:00:00\u001b[0ma \u001b[36m0:00:01\u001b[0m\n",
      "\u001b[?25hInstalling collected packages: torchdistill\n",
      "Successfully installed torchdistill-1.1.0\n"
     ]
    },
    {
     "name": "stderr",
     "output_type": "stream",
     "text": [
      "Downloading: \"https://download.pytorch.org/models/resnet18-f37072fd.pth\" to /root/.cache/torch/hub/checkpoints/resnet18-f37072fd.pth\n",
      "100%|██████████| 44.7M/44.7M [00:00<00:00, 111MB/s] \n"
     ]
    }
   ],
   "source": [
    "!pip install torchdistill\n",
    "\n",
    "import torch\n",
    "import numpy as np\n",
    "import pandas as pd\n",
    "from torchvision.models import resnet18, ResNet18_Weights\n",
    "from torchdistill.core.forward_hook import ForwardHookManager\n",
    "import PIL\n",
    "from torchvision.transforms.functional import pil_to_tensor\n",
    "import os\n",
    "\n",
    "data = pd.read_csv(\"/kaggle/input/apartment-data-table/data.csv\",\n",
    "                  sep=\"|\")\n",
    "\n",
    "weights = ResNet18_Weights.DEFAULT\n",
    "model = resnet18(weights=weights)\n",
    "model.cuda()\n",
    "model.eval()\n",
    "\n",
    "forward_hook_manager = ForwardHookManager(torch.device(\"cuda\"))\n",
    "forward_hook_manager.add_hook(model, 'fc', requires_input=True, requires_output=False)"
   ]
  },
  {
   "cell_type": "markdown",
   "metadata": {},
   "source": [
    "Note that the final output of the last convolutional layer has 512 elements. So we may take this into account as I did below:"
   ]
  },
  {
   "cell_type": "code",
   "execution_count": 2,
   "metadata": {
    "_cell_guid": "b1076dfc-b9ad-4769-8c92-a6c4dae69d19",
    "_uuid": "8f2839f25d086af736a60e9eeb907d3b93b6e0e5",
    "execution": {
     "iopub.execute_input": "2024-07-23T12:26:24.062957Z",
     "iopub.status.busy": "2024-07-23T12:26:24.062666Z",
     "iopub.status.idle": "2024-07-23T12:28:21.890940Z",
     "shell.execute_reply": "2024-07-23T12:28:21.890078Z",
     "shell.execute_reply.started": "2024-07-23T12:26:24.062933Z"
    }
   },
   "outputs": [],
   "source": [
    "resnet18_transforms = ResNet18_Weights.IMAGENET1K_V1.transforms(antialias=True)\n",
    "\n",
    "feature_maps = np.empty((1, 512))\n",
    "\n",
    "img_path = \"/kaggle/input/imgs-dataset-apartments/imgs/\"\n",
    "\n",
    "for ID in data[\"id\"]:\n",
    "    \n",
    "    x = pil_to_tensor(PIL.Image.open(img_path + ID + \".png\"))\n",
    "    x = resnet18_transforms(x).unsqueeze(0).to(torch.device(\"cuda\"))\n",
    "    \n",
    "    y = model.forward(x)\n",
    "    \n",
    "    io_dict = forward_hook_manager.pop_io_dict()\n",
    "    \n",
    "    feature_maps = np.concatenate((feature_maps, io_dict[\"fc\"][\"input\"].detach().cpu().numpy()))"
   ]
  },
  {
   "cell_type": "code",
   "execution_count": 3,
   "metadata": {
    "execution": {
     "iopub.execute_input": "2024-07-23T12:28:21.896155Z",
     "iopub.status.busy": "2024-07-23T12:28:21.895883Z",
     "iopub.status.idle": "2024-07-23T12:28:21.903167Z",
     "shell.execute_reply": "2024-07-23T12:28:21.902168Z",
     "shell.execute_reply.started": "2024-07-23T12:28:21.896131Z"
    }
   },
   "outputs": [
    {
     "data": {
      "text/plain": [
       "(7148, 512)"
      ]
     },
     "execution_count": 3,
     "metadata": {},
     "output_type": "execute_result"
    }
   ],
   "source": [
    "feature_maps[1:, :].shape"
   ]
  },
  {
   "cell_type": "code",
   "execution_count": 4,
   "metadata": {
    "execution": {
     "iopub.execute_input": "2024-07-23T12:28:21.904357Z",
     "iopub.status.busy": "2024-07-23T12:28:21.904130Z",
     "iopub.status.idle": "2024-07-23T12:28:21.914536Z",
     "shell.execute_reply": "2024-07-23T12:28:21.913606Z",
     "shell.execute_reply.started": "2024-07-23T12:28:21.904337Z"
    }
   },
   "outputs": [
    {
     "data": {
      "text/plain": [
       "7148"
      ]
     },
     "execution_count": 4,
     "metadata": {},
     "output_type": "execute_result"
    }
   ],
   "source": [
    "len(data)"
   ]
  },
  {
   "cell_type": "markdown",
   "metadata": {},
   "source": [
    "Now we just need to append the feature maps into the existing dataset."
   ]
  },
  {
   "cell_type": "code",
   "execution_count": 5,
   "metadata": {
    "execution": {
     "iopub.execute_input": "2024-07-23T12:28:21.915890Z",
     "iopub.status.busy": "2024-07-23T12:28:21.915581Z",
     "iopub.status.idle": "2024-07-23T12:28:22.135597Z",
     "shell.execute_reply": "2024-07-23T12:28:22.134842Z",
     "shell.execute_reply.started": "2024-07-23T12:28:21.915867Z"
    }
   },
   "outputs": [],
   "source": [
    "from warnings import simplefilter\n",
    "simplefilter(action=\"ignore\", category=pd.errors.PerformanceWarning)\n",
    "\n",
    "for i in range(512):\n",
    "    data[f\"feature_maps_{i+1}\"] = feature_maps[1:, i]"
   ]
  },
  {
   "cell_type": "code",
   "execution_count": 6,
   "metadata": {
    "execution": {
     "iopub.execute_input": "2024-07-23T12:28:22.136933Z",
     "iopub.status.busy": "2024-07-23T12:28:22.136644Z",
     "iopub.status.idle": "2024-07-23T12:28:22.176033Z",
     "shell.execute_reply": "2024-07-23T12:28:22.175173Z",
     "shell.execute_reply.started": "2024-07-23T12:28:22.136908Z"
    }
   },
   "outputs": [
    {
     "data": {
      "text/html": [
       "<div>\n",
       "<style scoped>\n",
       "    .dataframe tbody tr th:only-of-type {\n",
       "        vertical-align: middle;\n",
       "    }\n",
       "\n",
       "    .dataframe tbody tr th {\n",
       "        vertical-align: top;\n",
       "    }\n",
       "\n",
       "    .dataframe thead th {\n",
       "        text-align: right;\n",
       "    }\n",
       "</style>\n",
       "<table border=\"1\" class=\"dataframe\">\n",
       "  <thead>\n",
       "    <tr style=\"text-align: right;\">\n",
       "      <th></th>\n",
       "      <th>id</th>\n",
       "      <th>price</th>\n",
       "      <th>condo_fee</th>\n",
       "      <th>iptu</th>\n",
       "      <th>address</th>\n",
       "      <th>floorSize</th>\n",
       "      <th>numberOfRooms</th>\n",
       "      <th>numberOfBathroomsTotal</th>\n",
       "      <th>numberOfParkingSpaces</th>\n",
       "      <th>floorLevel</th>\n",
       "      <th>...</th>\n",
       "      <th>feature_maps_503</th>\n",
       "      <th>feature_maps_504</th>\n",
       "      <th>feature_maps_505</th>\n",
       "      <th>feature_maps_506</th>\n",
       "      <th>feature_maps_507</th>\n",
       "      <th>feature_maps_508</th>\n",
       "      <th>feature_maps_509</th>\n",
       "      <th>feature_maps_510</th>\n",
       "      <th>feature_maps_511</th>\n",
       "      <th>feature_maps_512</th>\n",
       "    </tr>\n",
       "  </thead>\n",
       "  <tbody>\n",
       "    <tr>\n",
       "      <th>0</th>\n",
       "      <td>62750619205425081544300816117885861273</td>\n",
       "      <td>949900.0</td>\n",
       "      <td>790.0</td>\n",
       "      <td>1900.0</td>\n",
       "      <td>Rua C238, 100 - Jardim América, Goiânia - GO</td>\n",
       "      <td>130.0</td>\n",
       "      <td>3.0</td>\n",
       "      <td>4.0</td>\n",
       "      <td>2.0</td>\n",
       "      <td>24.0</td>\n",
       "      <td>...</td>\n",
       "      <td>0.127765</td>\n",
       "      <td>3.524587</td>\n",
       "      <td>1.041046</td>\n",
       "      <td>0.016919</td>\n",
       "      <td>0.452591</td>\n",
       "      <td>3.309776</td>\n",
       "      <td>0.982112</td>\n",
       "      <td>0.333408</td>\n",
       "      <td>0.894974</td>\n",
       "      <td>0.448568</td>\n",
       "    </tr>\n",
       "    <tr>\n",
       "      <th>1</th>\n",
       "      <td>302678336848826931249389939487192177877</td>\n",
       "      <td>760000.0</td>\n",
       "      <td>NaN</td>\n",
       "      <td>NaN</td>\n",
       "      <td>Rua T 30, S/N - Setor Bueno, Goiânia - GO</td>\n",
       "      <td>90.0</td>\n",
       "      <td>2.5</td>\n",
       "      <td>2.5</td>\n",
       "      <td>1.5</td>\n",
       "      <td>NaN</td>\n",
       "      <td>...</td>\n",
       "      <td>0.515701</td>\n",
       "      <td>3.463290</td>\n",
       "      <td>0.394959</td>\n",
       "      <td>0.283912</td>\n",
       "      <td>0.211381</td>\n",
       "      <td>0.619300</td>\n",
       "      <td>1.635983</td>\n",
       "      <td>0.501667</td>\n",
       "      <td>0.608028</td>\n",
       "      <td>0.017285</td>\n",
       "    </tr>\n",
       "    <tr>\n",
       "      <th>2</th>\n",
       "      <td>130359292211767838527233708900928593543</td>\n",
       "      <td>350000.0</td>\n",
       "      <td>270.0</td>\n",
       "      <td>250.0</td>\n",
       "      <td>Avenida Marialva, 435 - Vila Rosa, Goiânia - GO</td>\n",
       "      <td>57.0</td>\n",
       "      <td>2.0</td>\n",
       "      <td>1.0</td>\n",
       "      <td>1.0</td>\n",
       "      <td>19.0</td>\n",
       "      <td>...</td>\n",
       "      <td>0.229476</td>\n",
       "      <td>2.309388</td>\n",
       "      <td>0.158572</td>\n",
       "      <td>0.197296</td>\n",
       "      <td>0.073967</td>\n",
       "      <td>0.820991</td>\n",
       "      <td>1.299795</td>\n",
       "      <td>0.337664</td>\n",
       "      <td>0.174766</td>\n",
       "      <td>0.416028</td>\n",
       "    </tr>\n",
       "    <tr>\n",
       "      <th>3</th>\n",
       "      <td>191007733490619722070589252030900058169</td>\n",
       "      <td>523000.0</td>\n",
       "      <td>500.0</td>\n",
       "      <td>800.0</td>\n",
       "      <td>Rua VV 5, 1 - Residencial Eldorado, Goiânia - GO</td>\n",
       "      <td>74.0</td>\n",
       "      <td>3.0</td>\n",
       "      <td>3.0</td>\n",
       "      <td>1.0</td>\n",
       "      <td>1.0</td>\n",
       "      <td>...</td>\n",
       "      <td>0.390583</td>\n",
       "      <td>1.436745</td>\n",
       "      <td>0.571972</td>\n",
       "      <td>0.178358</td>\n",
       "      <td>0.138459</td>\n",
       "      <td>2.072406</td>\n",
       "      <td>0.609975</td>\n",
       "      <td>0.209662</td>\n",
       "      <td>0.185768</td>\n",
       "      <td>0.109002</td>\n",
       "    </tr>\n",
       "    <tr>\n",
       "      <th>4</th>\n",
       "      <td>200978065182550317495009592604134775241</td>\n",
       "      <td>624700.0</td>\n",
       "      <td>500.0</td>\n",
       "      <td>900.0</td>\n",
       "      <td>Avenida Dona Maria Cardoso, 735 - Parque Amazô...</td>\n",
       "      <td>72.0</td>\n",
       "      <td>2.0</td>\n",
       "      <td>1.0</td>\n",
       "      <td>1.0</td>\n",
       "      <td>8.0</td>\n",
       "      <td>...</td>\n",
       "      <td>0.203433</td>\n",
       "      <td>1.041208</td>\n",
       "      <td>0.361618</td>\n",
       "      <td>0.499424</td>\n",
       "      <td>0.165279</td>\n",
       "      <td>0.054856</td>\n",
       "      <td>2.148610</td>\n",
       "      <td>0.781782</td>\n",
       "      <td>0.042805</td>\n",
       "      <td>0.157398</td>\n",
       "    </tr>\n",
       "  </tbody>\n",
       "</table>\n",
       "<p>5 rows × 593 columns</p>\n",
       "</div>"
      ],
      "text/plain": [
       "                                        id     price  condo_fee    iptu  \\\n",
       "0   62750619205425081544300816117885861273  949900.0      790.0  1900.0   \n",
       "1  302678336848826931249389939487192177877  760000.0        NaN     NaN   \n",
       "2  130359292211767838527233708900928593543  350000.0      270.0   250.0   \n",
       "3  191007733490619722070589252030900058169  523000.0      500.0   800.0   \n",
       "4  200978065182550317495009592604134775241  624700.0      500.0   900.0   \n",
       "\n",
       "                                             address  floorSize  \\\n",
       "0       Rua C238, 100 - Jardim América, Goiânia - GO      130.0   \n",
       "1          Rua T 30, S/N - Setor Bueno, Goiânia - GO       90.0   \n",
       "2    Avenida Marialva, 435 - Vila Rosa, Goiânia - GO       57.0   \n",
       "3   Rua VV 5, 1 - Residencial Eldorado, Goiânia - GO       74.0   \n",
       "4  Avenida Dona Maria Cardoso, 735 - Parque Amazô...       72.0   \n",
       "\n",
       "   numberOfRooms  numberOfBathroomsTotal  numberOfParkingSpaces  floorLevel  \\\n",
       "0            3.0                     4.0                    2.0        24.0   \n",
       "1            2.5                     2.5                    1.5         NaN   \n",
       "2            2.0                     1.0                    1.0        19.0   \n",
       "3            3.0                     3.0                    1.0         1.0   \n",
       "4            2.0                     1.0                    1.0         8.0   \n",
       "\n",
       "   ...  feature_maps_503  feature_maps_504  feature_maps_505  \\\n",
       "0  ...          0.127765          3.524587          1.041046   \n",
       "1  ...          0.515701          3.463290          0.394959   \n",
       "2  ...          0.229476          2.309388          0.158572   \n",
       "3  ...          0.390583          1.436745          0.571972   \n",
       "4  ...          0.203433          1.041208          0.361618   \n",
       "\n",
       "   feature_maps_506  feature_maps_507  feature_maps_508  feature_maps_509  \\\n",
       "0          0.016919          0.452591          3.309776          0.982112   \n",
       "1          0.283912          0.211381          0.619300          1.635983   \n",
       "2          0.197296          0.073967          0.820991          1.299795   \n",
       "3          0.178358          0.138459          2.072406          0.609975   \n",
       "4          0.499424          0.165279          0.054856          2.148610   \n",
       "\n",
       "   feature_maps_510  feature_maps_511  feature_maps_512  \n",
       "0          0.333408          0.894974          0.448568  \n",
       "1          0.501667          0.608028          0.017285  \n",
       "2          0.337664          0.174766          0.416028  \n",
       "3          0.209662          0.185768          0.109002  \n",
       "4          0.781782          0.042805          0.157398  \n",
       "\n",
       "[5 rows x 593 columns]"
      ]
     },
     "execution_count": 6,
     "metadata": {},
     "output_type": "execute_result"
    }
   ],
   "source": [
    "data.head()"
   ]
  },
  {
   "cell_type": "markdown",
   "metadata": {},
   "source": [
    "It's time to save the data!"
   ]
  },
  {
   "cell_type": "code",
   "execution_count": 7,
   "metadata": {
    "execution": {
     "iopub.execute_input": "2024-07-23T12:28:22.177800Z",
     "iopub.status.busy": "2024-07-23T12:28:22.177437Z",
     "iopub.status.idle": "2024-07-23T12:28:29.913437Z",
     "shell.execute_reply": "2024-07-23T12:28:29.912682Z",
     "shell.execute_reply.started": "2024-07-23T12:28:22.177770Z"
    }
   },
   "outputs": [],
   "source": [
    "data.to_csv(\"data.csv\", index=False, sep=\"|\")"
   ]
  }
 ],
 "metadata": {
  "kaggle": {
   "accelerator": "nvidiaTeslaT4",
   "dataSources": [
    {
     "datasetId": 5430820,
     "sourceId": 9013441,
     "sourceType": "datasetVersion"
    },
    {
     "datasetId": 5430948,
     "sourceId": 9013653,
     "sourceType": "datasetVersion"
    },
    {
     "datasetId": 5433713,
     "sourceId": 9017457,
     "sourceType": "datasetVersion"
    }
   ],
   "dockerImageVersionId": 30747,
   "isGpuEnabled": true,
   "isInternetEnabled": true,
   "language": "python",
   "sourceType": "notebook"
  },
  "kernelspec": {
   "display_name": "Python 3 (ipykernel)",
   "language": "python",
   "name": "python3"
  },
  "language_info": {
   "codemirror_mode": {
    "name": "ipython",
    "version": 3
   },
   "file_extension": ".py",
   "mimetype": "text/x-python",
   "name": "python",
   "nbconvert_exporter": "python",
   "pygments_lexer": "ipython3",
   "version": "3.11.5"
  }
 },
 "nbformat": 4,
 "nbformat_minor": 4
}
